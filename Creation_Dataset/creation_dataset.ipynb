{
 "cells": [
  {
   "cell_type": "code",
   "execution_count": 100,
   "metadata": {},
   "outputs": [],
   "source": [
    "import pandas as pd\n",
    "%run functions.ipynb"
   ]
  },
  {
   "cell_type": "markdown",
   "metadata": {},
   "source": [
    "## Formation du Dataset"
   ]
  },
  {
   "cell_type": "code",
   "execution_count": 101,
   "metadata": {},
   "outputs": [],
   "source": [
    "# Plusieurs datasets car il a fallu par la suite rajouter des informations \n",
    "# complémentaires et donc faire d'autres scrappings sur ces annonces\n",
    "# et la labelisation faite à la main\n",
    "dataset_principal=pd.read_csv('../csv/dataset_principal.csv')\n",
    "dataset_description_user=pd.read_csv('../csv/about.csv')\n",
    "dataset_feedback=pd.read_csv('../csv/feedback_reputation.csv')\n",
    "dataset_label=pd.read_csv('../csv/labels.csv')"
   ]
  },
  {
   "cell_type": "code",
   "execution_count": 102,
   "metadata": {},
   "outputs": [],
   "source": [
    "# Lors du scrapping beaucoup de varaibles ont été prises mais certaines sont inutiles\n",
    "# On garde celles pertinentes\n",
    "dataset_principal=dataset_principal[['id_advert','title_advert','price','brand','promoted','taille','description_advert',\n",
    "                                        'email','gender', 'item_count', 'followers_count', 'following_count',\n",
    "                                        'account_ban_date','is_publish_photos_agreed','expose_location', 'city', 'country_title', 'business_account',\n",
    "                                      'total_items_count', 'verification_email', 'verification_facebook','verification_google', 'verification_phone', 'is_hated', 'hates_you',\n",
    "                                       'can_view_profile','item_title_dressing','item_description_dressing', 'photo','item_titles_advice']]\n",
    "dataset_feedback=dataset_feedback[['feedback_reputation']]\n",
    "dataset_description_user=dataset_description_user[['given_item_count','taken_item_count','description_user']]"
   ]
  },
  {
   "cell_type": "code",
   "execution_count": 103,
   "metadata": {},
   "outputs": [],
   "source": [
    "# On assemble les datasets\n",
    "dataset_final = pd.concat([dataset_principal,dataset_feedback, dataset_description_user,dataset_label], axis=1)"
   ]
  },
  {
   "cell_type": "code",
   "execution_count": 104,
   "metadata": {},
   "outputs": [
    {
     "data": {
      "text/html": [
       "<div>\n",
       "<style scoped>\n",
       "    .dataframe tbody tr th:only-of-type {\n",
       "        vertical-align: middle;\n",
       "    }\n",
       "\n",
       "    .dataframe tbody tr th {\n",
       "        vertical-align: top;\n",
       "    }\n",
       "\n",
       "    .dataframe thead th {\n",
       "        text-align: right;\n",
       "    }\n",
       "</style>\n",
       "<table border=\"1\" class=\"dataframe\">\n",
       "  <thead>\n",
       "    <tr style=\"text-align: right;\">\n",
       "      <th></th>\n",
       "      <th>id_advert</th>\n",
       "      <th>title_advert</th>\n",
       "      <th>price</th>\n",
       "      <th>brand</th>\n",
       "      <th>promoted</th>\n",
       "      <th>taille</th>\n",
       "      <th>description_advert</th>\n",
       "      <th>email</th>\n",
       "      <th>gender</th>\n",
       "      <th>item_count</th>\n",
       "      <th>...</th>\n",
       "      <th>item_description_dressing</th>\n",
       "      <th>photo</th>\n",
       "      <th>item_titles_advice</th>\n",
       "      <th>feedback_reputation</th>\n",
       "      <th>given_item_count</th>\n",
       "      <th>taken_item_count</th>\n",
       "      <th>description_user</th>\n",
       "      <th>modele</th>\n",
       "      <th>ressell_price</th>\n",
       "      <th>scam</th>\n",
       "    </tr>\n",
       "  </thead>\n",
       "  <tbody>\n",
       "    <tr>\n",
       "      <th>0</th>\n",
       "      <td>3983113025</td>\n",
       "      <td>Adidas Campus 00s Black 39</td>\n",
       "      <td>49.9</td>\n",
       "      <td>adidas Superstar</td>\n",
       "      <td>False</td>\n",
       "      <td>39.0</td>\n",
       "      <td>Neuf et original, avec boîte 📦, livraison sous...</td>\n",
       "      <td>NaN</td>\n",
       "      <td>NaN</td>\n",
       "      <td>17</td>\n",
       "      <td>...</td>\n",
       "      <td>['Neuf et original, avec boîte 📦, livraison so...</td>\n",
       "      <td>Null</td>\n",
       "      <td>[]</td>\n",
       "      <td>0.0</td>\n",
       "      <td>2</td>\n",
       "      <td>0</td>\n",
       "      <td>NaN</td>\n",
       "      <td>black</td>\n",
       "      <td>129</td>\n",
       "      <td>1</td>\n",
       "    </tr>\n",
       "    <tr>\n",
       "      <th>1</th>\n",
       "      <td>3980586104</td>\n",
       "      <td>Adidas Campus 00s black 37</td>\n",
       "      <td>50.0</td>\n",
       "      <td>adidas Superstar</td>\n",
       "      <td>False</td>\n",
       "      <td>37.0</td>\n",
       "      <td>Chaussures innovantes originales neuves, inuti...</td>\n",
       "      <td>NaN</td>\n",
       "      <td>NaN</td>\n",
       "      <td>4</td>\n",
       "      <td>...</td>\n",
       "      <td>['Chaussures innovantes originales neuves, inu...</td>\n",
       "      <td>https://images1.vinted.net/t/01_008c2_qYxPTBWm...</td>\n",
       "      <td>[]</td>\n",
       "      <td>0.0</td>\n",
       "      <td>8</td>\n",
       "      <td>0</td>\n",
       "      <td>NaN</td>\n",
       "      <td>black</td>\n",
       "      <td>111</td>\n",
       "      <td>1</td>\n",
       "    </tr>\n",
       "    <tr>\n",
       "      <th>2</th>\n",
       "      <td>3982750602</td>\n",
       "      <td>Adidas Campus gray 00s 38</td>\n",
       "      <td>65.0</td>\n",
       "      <td>adidas Superstar</td>\n",
       "      <td>False</td>\n",
       "      <td>38.0</td>\n",
       "      <td>Les chaussures sont originales, neuves et inut...</td>\n",
       "      <td>NaN</td>\n",
       "      <td>NaN</td>\n",
       "      <td>3</td>\n",
       "      <td>...</td>\n",
       "      <td>['Les chaussures sont originales, neuves et in...</td>\n",
       "      <td>https://images1.vinted.net/t/03_00ab6_zyDqB5Qf...</td>\n",
       "      <td>[]</td>\n",
       "      <td>0.0</td>\n",
       "      <td>5</td>\n",
       "      <td>0</td>\n",
       "      <td>NaN</td>\n",
       "      <td>grey</td>\n",
       "      <td>143</td>\n",
       "      <td>1</td>\n",
       "    </tr>\n",
       "    <tr>\n",
       "      <th>3</th>\n",
       "      <td>3977749044</td>\n",
       "      <td>Adidas Campus 00s black 39</td>\n",
       "      <td>50.0</td>\n",
       "      <td>adidas Superstar</td>\n",
       "      <td>False</td>\n",
       "      <td>39.0</td>\n",
       "      <td>Chaussures innovantes originales neuves, inuti...</td>\n",
       "      <td>NaN</td>\n",
       "      <td>NaN</td>\n",
       "      <td>4</td>\n",
       "      <td>...</td>\n",
       "      <td>['Chaussures innovantes originales neuves, inu...</td>\n",
       "      <td>https://images1.vinted.net/t/01_008c2_qYxPTBWm...</td>\n",
       "      <td>[]</td>\n",
       "      <td>0.0</td>\n",
       "      <td>8</td>\n",
       "      <td>0</td>\n",
       "      <td>NaN</td>\n",
       "      <td>black</td>\n",
       "      <td>129</td>\n",
       "      <td>1</td>\n",
       "    </tr>\n",
       "    <tr>\n",
       "      <th>4</th>\n",
       "      <td>3983163202</td>\n",
       "      <td>Adidas Campus 00s (Women's) Black Eu 38</td>\n",
       "      <td>80.0</td>\n",
       "      <td>adidas Originals</td>\n",
       "      <td>False</td>\n",
       "      <td>38.0</td>\n",
       "      <td>Les photos sont prises en vrai\\nles chaussures...</td>\n",
       "      <td>NaN</td>\n",
       "      <td>F</td>\n",
       "      <td>1</td>\n",
       "      <td>...</td>\n",
       "      <td>[]</td>\n",
       "      <td>https://images1.vinted.net/t/02_0020b_hdyRNXh7...</td>\n",
       "      <td>['Adidas campus 00 core Black 🚀J - Eu 40 -', '...</td>\n",
       "      <td>1.0</td>\n",
       "      <td>4</td>\n",
       "      <td>0</td>\n",
       "      <td>NaN</td>\n",
       "      <td>black</td>\n",
       "      <td>118</td>\n",
       "      <td>1</td>\n",
       "    </tr>\n",
       "  </tbody>\n",
       "</table>\n",
       "<p>5 rows × 37 columns</p>\n",
       "</div>"
      ],
      "text/plain": [
       "    id_advert                             title_advert  price  \\\n",
       "0  3983113025               Adidas Campus 00s Black 39   49.9   \n",
       "1  3980586104               Adidas Campus 00s black 37   50.0   \n",
       "2  3982750602                Adidas Campus gray 00s 38   65.0   \n",
       "3  3977749044               Adidas Campus 00s black 39   50.0   \n",
       "4  3983163202  Adidas Campus 00s (Women's) Black Eu 38   80.0   \n",
       "\n",
       "              brand  promoted  taille  \\\n",
       "0  adidas Superstar     False    39.0   \n",
       "1  adidas Superstar     False    37.0   \n",
       "2  adidas Superstar     False    38.0   \n",
       "3  adidas Superstar     False    39.0   \n",
       "4  adidas Originals     False    38.0   \n",
       "\n",
       "                                  description_advert  email gender  \\\n",
       "0  Neuf et original, avec boîte 📦, livraison sous...    NaN    NaN   \n",
       "1  Chaussures innovantes originales neuves, inuti...    NaN    NaN   \n",
       "2  Les chaussures sont originales, neuves et inut...    NaN    NaN   \n",
       "3  Chaussures innovantes originales neuves, inuti...    NaN    NaN   \n",
       "4  Les photos sont prises en vrai\\nles chaussures...    NaN      F   \n",
       "\n",
       "   item_count  ...                          item_description_dressing  \\\n",
       "0          17  ...  ['Neuf et original, avec boîte 📦, livraison so...   \n",
       "1           4  ...  ['Chaussures innovantes originales neuves, inu...   \n",
       "2           3  ...  ['Les chaussures sont originales, neuves et in...   \n",
       "3           4  ...  ['Chaussures innovantes originales neuves, inu...   \n",
       "4           1  ...                                                 []   \n",
       "\n",
       "                                               photo  \\\n",
       "0                                               Null   \n",
       "1  https://images1.vinted.net/t/01_008c2_qYxPTBWm...   \n",
       "2  https://images1.vinted.net/t/03_00ab6_zyDqB5Qf...   \n",
       "3  https://images1.vinted.net/t/01_008c2_qYxPTBWm...   \n",
       "4  https://images1.vinted.net/t/02_0020b_hdyRNXh7...   \n",
       "\n",
       "                                  item_titles_advice  feedback_reputation  \\\n",
       "0                                                 []                  0.0   \n",
       "1                                                 []                  0.0   \n",
       "2                                                 []                  0.0   \n",
       "3                                                 []                  0.0   \n",
       "4  ['Adidas campus 00 core Black 🚀J - Eu 40 -', '...                  1.0   \n",
       "\n",
       "   given_item_count taken_item_count description_user  modele  ressell_price  \\\n",
       "0                 2                0              NaN   black            129   \n",
       "1                 8                0              NaN   black            111   \n",
       "2                 5                0              NaN    grey            143   \n",
       "3                 8                0              NaN   black            129   \n",
       "4                 4                0              NaN   black            118   \n",
       "\n",
       "   scam  \n",
       "0     1  \n",
       "1     1  \n",
       "2     1  \n",
       "3     1  \n",
       "4     1  \n",
       "\n",
       "[5 rows x 37 columns]"
      ]
     },
     "execution_count": 104,
     "metadata": {},
     "output_type": "execute_result"
    }
   ],
   "source": [
    "dataset_final.head()"
   ]
  },
  {
   "cell_type": "markdown",
   "metadata": {},
   "source": [
    "## Création et/ou Remplacement de variables"
   ]
  },
  {
   "cell_type": "code",
   "execution_count": 105,
   "metadata": {},
   "outputs": [],
   "source": [
    "# retourne si l'annonceur a une photo de profil ou non\n",
    "dataset_final['photo']=dataset_final.apply(profil_picture,axis=1)"
   ]
  },
  {
   "cell_type": "code",
   "execution_count": 106,
   "metadata": {},
   "outputs": [],
   "source": [
    "# retourne si l'annonceur est potentiellement un compte spécialisé dans la revente de produit \"hype\"\n",
    "dataset_final['sell_sneaker_account']=dataset_final.apply(sell_sneaker_account,axis=1)"
   ]
  },
  {
   "cell_type": "code",
   "execution_count": 107,
   "metadata": {},
   "outputs": [],
   "source": [
    "# retourne si l'annonceur a une description \n",
    "dataset_final['description_user']=dataset_final.apply(description_user_full,axis=1)"
   ]
  },
  {
   "cell_type": "code",
   "execution_count": 108,
   "metadata": {},
   "outputs": [],
   "source": [
    "# retourne si l'annonce a un prix étrange avec des décimales\n",
    "dataset_final['price_decimal']=dataset_final.apply(price_decimal,axis=1)"
   ]
  },
  {
   "cell_type": "code",
   "execution_count": 109,
   "metadata": {},
   "outputs": [],
   "source": [
    "# retourne si l'annonce possède un titre et une description identique\n",
    "dataset_final['identic_title_description']=dataset_final.apply(identic_title_description,axis=1)"
   ]
  },
  {
   "cell_type": "code",
   "execution_count": 110,
   "metadata": {},
   "outputs": [],
   "source": [
    "# retourne si la description de l'annonce semble suspecte avec une description très breve\n",
    "dataset_final['short_description']=dataset_final.apply(short_description,axis=1)"
   ]
  },
  {
   "cell_type": "code",
   "execution_count": 111,
   "metadata": {},
   "outputs": [],
   "source": [
    "# retourne si la description de l'annonce semble secure\n",
    "dataset_final['secure_description']=dataset_final.apply(secure_description,axis=1)"
   ]
  },
  {
   "cell_type": "code",
   "execution_count": 112,
   "metadata": {},
   "outputs": [],
   "source": [
    "# retourne si la description de l'annonce contient un/des emoji(s)\n",
    "dataset_final['has_emoji_description']=dataset_final.apply(has_emoji_description,axis=1)"
   ]
  },
  {
   "cell_type": "code",
   "execution_count": 113,
   "metadata": {},
   "outputs": [],
   "source": [
    "# retourne le pourcentage d'autres paires de Campus présent dans son dressing\n",
    "dataset_final['other_campus_dressing']=dataset_final.apply(other_campus_dressing,axis=1)"
   ]
  },
  {
   "cell_type": "code",
   "execution_count": 114,
   "metadata": {},
   "outputs": [],
   "source": [
    "# retourne le nombre d'autres paires de Campus présent dans son dressing\n",
    "dataset_final['other_campus_dressing_count']=dataset_final.apply(other_campus_dressing_count,axis=1)"
   ]
  },
  {
   "cell_type": "code",
   "execution_count": 115,
   "metadata": {},
   "outputs": [],
   "source": [
    "# retourne le pourcentage d'autres produits hype présent dans son dressing\n",
    "dataset_final['hype_products_dressing']=dataset_final.apply(hype_products_dressing,axis=1)"
   ]
  },
  {
   "cell_type": "code",
   "execution_count": 116,
   "metadata": {},
   "outputs": [],
   "source": [
    "# retourne le nombre d'autres produits hype présent dans son dressing\n",
    "dataset_final['hype_products_dressing_count']=dataset_final.apply(hype_products_dressing_count,axis=1)"
   ]
  },
  {
   "cell_type": "code",
   "execution_count": 117,
   "metadata": {},
   "outputs": [],
   "source": [
    "# retourne le pourcentage d'autres paires de Campus déjà vendues par l'annonceur\n",
    "dataset_final['other_campus_sell']=dataset_final.apply(other_campus_sell,axis=1)"
   ]
  },
  {
   "cell_type": "code",
   "execution_count": 118,
   "metadata": {},
   "outputs": [],
   "source": [
    "# retourne le nombre d'autres paires de Campus déjà vendues par l'annonceur\n",
    "dataset_final['other_campus_sell_count']=dataset_final.apply(other_campus_sell_count,axis=1)"
   ]
  },
  {
   "cell_type": "code",
   "execution_count": 119,
   "metadata": {},
   "outputs": [],
   "source": [
    "# retourne le pourcentage d'autres produits hype déjà vendues par l'annonceur\n",
    "dataset_final['hype_products_sell']=dataset_final.apply(hype_products_sell,axis=1)"
   ]
  },
  {
   "cell_type": "code",
   "execution_count": 120,
   "metadata": {},
   "outputs": [],
   "source": [
    "# retourne le nombre d'autres produits hype déjà vendues par l'annonceur\n",
    "dataset_final['hype_products_sell_count']=dataset_final.apply(hype_products_sell_count,axis=1)"
   ]
  },
  {
   "cell_type": "markdown",
   "metadata": {},
   "source": [
    "## Supression de variables"
   ]
  },
  {
   "cell_type": "code",
   "execution_count": 121,
   "metadata": {},
   "outputs": [
    {
     "data": {
      "text/plain": [
       "Index(['id_advert', 'title_advert', 'price', 'brand', 'promoted', 'taille',\n",
       "       'description_advert', 'email', 'gender', 'item_count',\n",
       "       'followers_count', 'following_count', 'account_ban_date',\n",
       "       'is_publish_photos_agreed', 'expose_location', 'city', 'country_title',\n",
       "       'business_account', 'total_items_count', 'verification_email',\n",
       "       'verification_facebook', 'verification_google', 'verification_phone',\n",
       "       'is_hated', 'hates_you', 'can_view_profile', 'item_title_dressing',\n",
       "       'item_description_dressing', 'photo', 'item_titles_advice',\n",
       "       'feedback_reputation', 'given_item_count', 'taken_item_count',\n",
       "       'description_user', 'modele', 'ressell_price', 'scam',\n",
       "       'sell_sneaker_account', 'price_decimal', 'identic_title_description',\n",
       "       'short_description', 'secure_description', 'has_emoji_description',\n",
       "       'other_campus_dressing', 'other_campus_dressing_count',\n",
       "       'hype_products_dressing', 'hype_products_dressing_count',\n",
       "       'other_campus_sell', 'other_campus_sell_count', 'hype_products_sell',\n",
       "       'hype_products_sell_count'],\n",
       "      dtype='object')"
      ]
     },
     "execution_count": 121,
     "metadata": {},
     "output_type": "execute_result"
    }
   ],
   "source": [
    "dataset_final.columns"
   ]
  },
  {
   "cell_type": "code",
   "execution_count": 122,
   "metadata": {},
   "outputs": [
    {
     "name": "stdout",
     "output_type": "stream",
     "text": [
      "Series([], Name: count, dtype: int64)\n",
      "Series([], Name: count, dtype: int64)\n",
      "business_account\n",
      "False    779\n",
      "True       1\n",
      "Name: count, dtype: int64\n",
      "is_hated\n",
      "False    780\n",
      "Name: count, dtype: int64\n",
      "hates_you\n",
      "False    780\n",
      "Name: count, dtype: int64\n",
      "can_view_profile\n",
      "True    780\n",
      "Name: count, dtype: int64\n",
      "verification_email\n",
      "True    780\n",
      "Name: count, dtype: int64\n"
     ]
    }
   ],
   "source": [
    "# Toutes ces varaibles ont la même valeur ou presque donc inintéressant\n",
    "print(dataset_final['email'].value_counts())\n",
    "print(dataset_final['account_ban_date'].value_counts())\n",
    "print(dataset_final['business_account'].value_counts())\n",
    "print(dataset_final['is_hated'].value_counts())\n",
    "print(dataset_final['hates_you'].value_counts())\n",
    "print(dataset_final['can_view_profile'].value_counts())\n",
    "print(dataset_final['verification_email'].value_counts())"
   ]
  },
  {
   "cell_type": "code",
   "execution_count": 123,
   "metadata": {},
   "outputs": [],
   "source": [
    "dataset_final=dataset_final.drop(['email','account_ban_date','business_account','is_hated','hates_you','can_view_profile',\n",
    "                                            'verification_email'],axis=1)"
   ]
  },
  {
   "cell_type": "code",
   "execution_count": 124,
   "metadata": {},
   "outputs": [],
   "source": [
    "#Ces variables ont seulement servi à créer d'autres variables à l'aide de nos fonctions\n",
    "dataset_final=dataset_final.drop(['item_title_dressing','item_description_dressing','item_titles_advice','title_advert',\n",
    "                                    'description_advert'],axis=1)"
   ]
  },
  {
   "cell_type": "markdown",
   "metadata": {},
   "source": [
    "## Dataset final"
   ]
  },
  {
   "cell_type": "code",
   "execution_count": 125,
   "metadata": {},
   "outputs": [
    {
     "data": {
      "text/plain": [
       "Index(['id_advert', 'price', 'brand', 'promoted', 'taille', 'gender',\n",
       "       'item_count', 'followers_count', 'following_count',\n",
       "       'is_publish_photos_agreed', 'expose_location', 'city', 'country_title',\n",
       "       'total_items_count', 'verification_facebook', 'verification_google',\n",
       "       'verification_phone', 'photo', 'feedback_reputation',\n",
       "       'given_item_count', 'taken_item_count', 'description_user', 'modele',\n",
       "       'ressell_price', 'scam', 'sell_sneaker_account', 'price_decimal',\n",
       "       'identic_title_description', 'short_description', 'secure_description',\n",
       "       'has_emoji_description', 'other_campus_dressing',\n",
       "       'other_campus_dressing_count', 'hype_products_dressing',\n",
       "       'hype_products_dressing_count', 'other_campus_sell',\n",
       "       'other_campus_sell_count', 'hype_products_sell',\n",
       "       'hype_products_sell_count'],\n",
       "      dtype='object')"
      ]
     },
     "execution_count": 125,
     "metadata": {},
     "output_type": "execute_result"
    }
   ],
   "source": [
    "dataset_final.columns"
   ]
  },
  {
   "cell_type": "code",
   "execution_count": 126,
   "metadata": {},
   "outputs": [],
   "source": [
    "# Changer l'odre des colonnes\n",
    "dataset_final=dataset_final[['id_advert','modele','taille','brand','price','price_decimal','ressell_price','promoted',\n",
    "                'identic_title_description', 'short_description', 'secure_description','has_emoji_description', 'other_campus_dressing',\n",
    "               'other_campus_dressing_count', 'hype_products_dressing','hype_products_dressing_count', 'other_campus_sell',\n",
    "              'other_campus_sell_count', 'hype_products_sell','hype_products_sell_count',\n",
    "              'description_user','sell_sneaker_account','item_count','total_items_count','given_item_count', 'taken_item_count',\n",
    "              'feedback_reputation','followers_count', 'following_count','gender','photo','is_publish_photos_agreed',\n",
    "               'expose_location', 'city', 'country_title','verification_facebook', 'verification_google',\n",
    "               'verification_phone','scam']]"
   ]
  },
  {
   "cell_type": "code",
   "execution_count": 127,
   "metadata": {},
   "outputs": [],
   "source": [
    "# renommer une colonne\n",
    "dataset_final = dataset_final.rename(columns={'taille': 'size'})"
   ]
  },
  {
   "cell_type": "code",
   "execution_count": 128,
   "metadata": {},
   "outputs": [
    {
     "data": {
      "text/html": [
       "<div>\n",
       "<style scoped>\n",
       "    .dataframe tbody tr th:only-of-type {\n",
       "        vertical-align: middle;\n",
       "    }\n",
       "\n",
       "    .dataframe tbody tr th {\n",
       "        vertical-align: top;\n",
       "    }\n",
       "\n",
       "    .dataframe thead th {\n",
       "        text-align: right;\n",
       "    }\n",
       "</style>\n",
       "<table border=\"1\" class=\"dataframe\">\n",
       "  <thead>\n",
       "    <tr style=\"text-align: right;\">\n",
       "      <th></th>\n",
       "      <th>id_advert</th>\n",
       "      <th>modele</th>\n",
       "      <th>size</th>\n",
       "      <th>brand</th>\n",
       "      <th>price</th>\n",
       "      <th>price_decimal</th>\n",
       "      <th>ressell_price</th>\n",
       "      <th>promoted</th>\n",
       "      <th>identic_title_description</th>\n",
       "      <th>short_description</th>\n",
       "      <th>...</th>\n",
       "      <th>gender</th>\n",
       "      <th>photo</th>\n",
       "      <th>is_publish_photos_agreed</th>\n",
       "      <th>expose_location</th>\n",
       "      <th>city</th>\n",
       "      <th>country_title</th>\n",
       "      <th>verification_facebook</th>\n",
       "      <th>verification_google</th>\n",
       "      <th>verification_phone</th>\n",
       "      <th>scam</th>\n",
       "    </tr>\n",
       "  </thead>\n",
       "  <tbody>\n",
       "    <tr>\n",
       "      <th>0</th>\n",
       "      <td>3983113025</td>\n",
       "      <td>black</td>\n",
       "      <td>39.0</td>\n",
       "      <td>adidas Superstar</td>\n",
       "      <td>49.9</td>\n",
       "      <td>Standard Price</td>\n",
       "      <td>129</td>\n",
       "      <td>False</td>\n",
       "      <td>Different</td>\n",
       "      <td>Long</td>\n",
       "      <td>...</td>\n",
       "      <td>NaN</td>\n",
       "      <td>No photo</td>\n",
       "      <td>False</td>\n",
       "      <td>True</td>\n",
       "      <td>Apremont</td>\n",
       "      <td>France</td>\n",
       "      <td>False</td>\n",
       "      <td>False</td>\n",
       "      <td>True</td>\n",
       "      <td>1</td>\n",
       "    </tr>\n",
       "    <tr>\n",
       "      <th>1</th>\n",
       "      <td>3980586104</td>\n",
       "      <td>black</td>\n",
       "      <td>37.0</td>\n",
       "      <td>adidas Superstar</td>\n",
       "      <td>50.0</td>\n",
       "      <td>Standard Price</td>\n",
       "      <td>111</td>\n",
       "      <td>False</td>\n",
       "      <td>Different</td>\n",
       "      <td>Long</td>\n",
       "      <td>...</td>\n",
       "      <td>NaN</td>\n",
       "      <td>Photo</td>\n",
       "      <td>False</td>\n",
       "      <td>True</td>\n",
       "      <td>Angoulême</td>\n",
       "      <td>France</td>\n",
       "      <td>False</td>\n",
       "      <td>False</td>\n",
       "      <td>True</td>\n",
       "      <td>1</td>\n",
       "    </tr>\n",
       "    <tr>\n",
       "      <th>2</th>\n",
       "      <td>3982750602</td>\n",
       "      <td>grey</td>\n",
       "      <td>38.0</td>\n",
       "      <td>adidas Superstar</td>\n",
       "      <td>65.0</td>\n",
       "      <td>Standard Price</td>\n",
       "      <td>143</td>\n",
       "      <td>False</td>\n",
       "      <td>Different</td>\n",
       "      <td>Long</td>\n",
       "      <td>...</td>\n",
       "      <td>NaN</td>\n",
       "      <td>Photo</td>\n",
       "      <td>False</td>\n",
       "      <td>True</td>\n",
       "      <td>Paris</td>\n",
       "      <td>France</td>\n",
       "      <td>False</td>\n",
       "      <td>False</td>\n",
       "      <td>True</td>\n",
       "      <td>1</td>\n",
       "    </tr>\n",
       "    <tr>\n",
       "      <th>3</th>\n",
       "      <td>3977749044</td>\n",
       "      <td>black</td>\n",
       "      <td>39.0</td>\n",
       "      <td>adidas Superstar</td>\n",
       "      <td>50.0</td>\n",
       "      <td>Standard Price</td>\n",
       "      <td>129</td>\n",
       "      <td>False</td>\n",
       "      <td>Different</td>\n",
       "      <td>Long</td>\n",
       "      <td>...</td>\n",
       "      <td>NaN</td>\n",
       "      <td>Photo</td>\n",
       "      <td>False</td>\n",
       "      <td>True</td>\n",
       "      <td>Angoulême</td>\n",
       "      <td>France</td>\n",
       "      <td>False</td>\n",
       "      <td>False</td>\n",
       "      <td>True</td>\n",
       "      <td>1</td>\n",
       "    </tr>\n",
       "    <tr>\n",
       "      <th>4</th>\n",
       "      <td>3983163202</td>\n",
       "      <td>black</td>\n",
       "      <td>38.0</td>\n",
       "      <td>adidas Originals</td>\n",
       "      <td>80.0</td>\n",
       "      <td>Standard Price</td>\n",
       "      <td>118</td>\n",
       "      <td>False</td>\n",
       "      <td>Different</td>\n",
       "      <td>Long</td>\n",
       "      <td>...</td>\n",
       "      <td>F</td>\n",
       "      <td>Photo</td>\n",
       "      <td>False</td>\n",
       "      <td>True</td>\n",
       "      <td>Marseille 11</td>\n",
       "      <td>Frankreich</td>\n",
       "      <td>False</td>\n",
       "      <td>False</td>\n",
       "      <td>True</td>\n",
       "      <td>1</td>\n",
       "    </tr>\n",
       "  </tbody>\n",
       "</table>\n",
       "<p>5 rows × 39 columns</p>\n",
       "</div>"
      ],
      "text/plain": [
       "    id_advert modele  size             brand  price   price_decimal  \\\n",
       "0  3983113025  black  39.0  adidas Superstar   49.9  Standard Price   \n",
       "1  3980586104  black  37.0  adidas Superstar   50.0  Standard Price   \n",
       "2  3982750602   grey  38.0  adidas Superstar   65.0  Standard Price   \n",
       "3  3977749044  black  39.0  adidas Superstar   50.0  Standard Price   \n",
       "4  3983163202  black  38.0  adidas Originals   80.0  Standard Price   \n",
       "\n",
       "   ressell_price  promoted identic_title_description short_description  ...  \\\n",
       "0            129     False                 Different              Long  ...   \n",
       "1            111     False                 Different              Long  ...   \n",
       "2            143     False                 Different              Long  ...   \n",
       "3            129     False                 Different              Long  ...   \n",
       "4            118     False                 Different              Long  ...   \n",
       "\n",
       "  gender     photo  is_publish_photos_agreed  expose_location          city  \\\n",
       "0    NaN  No photo                     False             True      Apremont   \n",
       "1    NaN     Photo                     False             True     Angoulême   \n",
       "2    NaN     Photo                     False             True         Paris   \n",
       "3    NaN     Photo                     False             True     Angoulême   \n",
       "4      F     Photo                     False             True  Marseille 11   \n",
       "\n",
       "   country_title  verification_facebook  verification_google  \\\n",
       "0         France                  False                False   \n",
       "1         France                  False                False   \n",
       "2         France                  False                False   \n",
       "3         France                  False                False   \n",
       "4     Frankreich                  False                False   \n",
       "\n",
       "   verification_phone  scam  \n",
       "0                True     1  \n",
       "1                True     1  \n",
       "2                True     1  \n",
       "3                True     1  \n",
       "4                True     1  \n",
       "\n",
       "[5 rows x 39 columns]"
      ]
     },
     "execution_count": 128,
     "metadata": {},
     "output_type": "execute_result"
    }
   ],
   "source": [
    "dataset_final.head()"
   ]
  },
  {
   "cell_type": "code",
   "execution_count": 129,
   "metadata": {},
   "outputs": [],
   "source": [
    "# exporter notre dataset final\n",
    "dataset_final.to_csv('../csv/dataset_final.csv',index=0)"
   ]
  }
 ],
 "metadata": {
  "kernelspec": {
   "display_name": "base",
   "language": "python",
   "name": "python3"
  },
  "language_info": {
   "codemirror_mode": {
    "name": "ipython",
    "version": 3
   },
   "file_extension": ".py",
   "mimetype": "text/x-python",
   "name": "python",
   "nbconvert_exporter": "python",
   "pygments_lexer": "ipython3",
   "version": "3.10.13"
  }
 },
 "nbformat": 4,
 "nbformat_minor": 2
}
