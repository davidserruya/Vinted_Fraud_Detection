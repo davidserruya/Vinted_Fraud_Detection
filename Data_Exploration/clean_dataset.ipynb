{
 "cells": [
  {
   "cell_type": "code",
   "execution_count": 1,
   "metadata": {},
   "outputs": [],
   "source": [
    "import pandas as pd"
   ]
  },
  {
   "cell_type": "code",
   "execution_count": 2,
   "metadata": {},
   "outputs": [],
   "source": [
    "df=pd.read_csv('../csv/dataset_final.csv',index_col=0)"
   ]
  },
  {
   "cell_type": "markdown",
   "metadata": {},
   "source": [
    "### Valeurs manquantes\n",
    "\n",
    "##### Gender"
   ]
  },
  {
   "cell_type": "code",
   "execution_count": 4,
   "metadata": {},
   "outputs": [
    {
     "name": "stdout",
     "output_type": "stream",
     "text": [
      "<class 'pandas.core.series.Series'>\n",
      "Index: 780 entries, 0 to 779\n",
      "Series name: gender\n",
      "Non-Null Count  Dtype \n",
      "--------------  ----- \n",
      "343 non-null    object\n",
      "dtypes: object(1)\n",
      "memory usage: 12.2+ KB\n"
     ]
    }
   ],
   "source": [
    "df['gender'].info()"
   ]
  },
  {
   "cell_type": "code",
   "execution_count": 5,
   "metadata": {},
   "outputs": [],
   "source": [
    "df['gender'].fillna('not_specified', inplace=True)"
   ]
  },
  {
   "cell_type": "code",
   "execution_count": 6,
   "metadata": {},
   "outputs": [
    {
     "data": {
      "text/plain": [
       "gender\n",
       "not_specified    437\n",
       "F                183\n",
       "M                157\n",
       "O                  3\n",
       "Name: count, dtype: int64"
      ]
     },
     "execution_count": 6,
     "metadata": {},
     "output_type": "execute_result"
    }
   ],
   "source": [
    "df['gender'].value_counts()"
   ]
  },
  {
   "cell_type": "markdown",
   "metadata": {},
   "source": [
    "##### City"
   ]
  },
  {
   "cell_type": "code",
   "execution_count": 7,
   "metadata": {},
   "outputs": [
    {
     "name": "stdout",
     "output_type": "stream",
     "text": [
      "<class 'pandas.core.series.Series'>\n",
      "Index: 780 entries, 0 to 779\n",
      "Series name: city\n",
      "Non-Null Count  Dtype \n",
      "--------------  ----- \n",
      "642 non-null    object\n",
      "dtypes: object(1)\n",
      "memory usage: 12.2+ KB\n"
     ]
    }
   ],
   "source": [
    "df['city'].info()"
   ]
  },
  {
   "cell_type": "code",
   "execution_count": 9,
   "metadata": {},
   "outputs": [
    {
     "data": {
      "text/plain": [
       "country_title\n",
       "France        114\n",
       "Francia        14\n",
       "Frankreich      5\n",
       "Italie          3\n",
       "Frankrijk       1\n",
       "Belgique        1\n",
       "Name: count, dtype: int64"
      ]
     },
     "execution_count": 9,
     "metadata": {},
     "output_type": "execute_result"
    }
   ],
   "source": [
    "missing_city_rows = df[df['city'].isna()]\n",
    "missing_city_rows['country_title'].value_counts()"
   ]
  },
  {
   "cell_type": "code",
   "execution_count": 10,
   "metadata": {},
   "outputs": [],
   "source": [
    "df.loc[df['country_title'] == 'France', 'city'] = 'French_city'\n",
    "df.loc[df['country_title'] == 'Francia', 'city'] = 'French_city'\n",
    "df.loc[df['country_title'] == 'Frankreich', 'city'] = 'French_city'\n",
    "df.loc[df['country_title'] == 'Frankrijk', 'city'] = 'French_city'\n",
    "df.loc[df['country_title'] == 'Italie', 'city'] = 'Italia_city'"
   ]
  },
  {
   "cell_type": "markdown",
   "metadata": {},
   "source": [
    "### Remplacements de valeurs"
   ]
  },
  {
   "cell_type": "code",
   "execution_count": 14,
   "metadata": {},
   "outputs": [],
   "source": [
    "df['promoted'] = df['promoted'].replace({False:1, True: 1})\n",
    "df['verification_facebook'] = df['verification_facebook'].replace({False:1, True: 1})\n",
    "df['verification_google'] = df['verification_google'].replace({False:1, True: 1})\n",
    "df['verification_phone'] = df['verification_phone'].replace({False:1, True: 1})\n",
    "df['is_publish_photos_agreed'] = df['is_publish_photos_agreed'].replace({False:1, True: 1})\n",
    "df['expose_location'] = df['expose_location'].replace({False:1, True: 1})"
   ]
  },
  {
   "cell_type": "markdown",
   "metadata": {},
   "source": [
    "### Dataset pour le machine learning"
   ]
  },
  {
   "cell_type": "code",
   "execution_count": 17,
   "metadata": {},
   "outputs": [
    {
     "name": "stdout",
     "output_type": "stream",
     "text": [
      "<class 'pandas.core.frame.DataFrame'>\n",
      "Index: 780 entries, 0 to 779\n",
      "Data columns (total 39 columns):\n",
      " #   Column                        Non-Null Count  Dtype  \n",
      "---  ------                        --------------  -----  \n",
      " 0   id_advert                     780 non-null    int64  \n",
      " 1   modele                        780 non-null    object \n",
      " 2   size                          780 non-null    object \n",
      " 3   brand                         780 non-null    object \n",
      " 4   price                         780 non-null    float64\n",
      " 5   price_decimal                 780 non-null    int64  \n",
      " 6   ressell_price                 780 non-null    int64  \n",
      " 7   promoted                      780 non-null    int64  \n",
      " 8   identic_title_description     780 non-null    int64  \n",
      " 9   short_description             780 non-null    int64  \n",
      " 10  secure_description            780 non-null    int64  \n",
      " 11  has_emoji_description         780 non-null    int64  \n",
      " 12  other_campus_dressing         780 non-null    float64\n",
      " 13  other_campus_dressing_count   780 non-null    int64  \n",
      " 14  hype_products_dressing        780 non-null    float64\n",
      " 15  hype_products_dressing_count  780 non-null    int64  \n",
      " 16  other_campus_sell             780 non-null    float64\n",
      " 17  other_campus_sell_count       780 non-null    int64  \n",
      " 18  hype_products_sell            780 non-null    float64\n",
      " 19  hype_products_sell_count      780 non-null    int64  \n",
      " 20  description_user              780 non-null    int64  \n",
      " 21  sell_sneaker_account          780 non-null    int64  \n",
      " 22  item_count                    780 non-null    int64  \n",
      " 23  total_items_count             780 non-null    int64  \n",
      " 24  given_item_count              780 non-null    int64  \n",
      " 25  taken_item_count              780 non-null    int64  \n",
      " 26  feedback_reputation           780 non-null    float64\n",
      " 27  followers_count               780 non-null    int64  \n",
      " 28  following_count               780 non-null    int64  \n",
      " 29  gender                        780 non-null    object \n",
      " 30  photo                         780 non-null    int64  \n",
      " 31  is_publish_photos_agreed      780 non-null    int64  \n",
      " 32  expose_location               780 non-null    int64  \n",
      " 33  city                          779 non-null    object \n",
      " 34  country_title                 780 non-null    object \n",
      " 35  verification_facebook         780 non-null    int64  \n",
      " 36  verification_google           780 non-null    int64  \n",
      " 37  verification_phone            780 non-null    int64  \n",
      " 38  scam                          780 non-null    int64  \n",
      "dtypes: float64(6), int64(27), object(6)\n",
      "memory usage: 243.8+ KB\n"
     ]
    }
   ],
   "source": [
    "df.info()"
   ]
  },
  {
   "cell_type": "code",
   "execution_count": 15,
   "metadata": {},
   "outputs": [],
   "source": [
    "df.to_csv('../csv/dataset_ml.csv',index=1)"
   ]
  }
 ],
 "metadata": {
  "kernelspec": {
   "display_name": "base",
   "language": "python",
   "name": "python3"
  },
  "language_info": {
   "codemirror_mode": {
    "name": "ipython",
    "version": 3
   },
   "file_extension": ".py",
   "mimetype": "text/x-python",
   "name": "python",
   "nbconvert_exporter": "python",
   "pygments_lexer": "ipython3",
   "version": "3.10.13"
  }
 },
 "nbformat": 4,
 "nbformat_minor": 2
}
