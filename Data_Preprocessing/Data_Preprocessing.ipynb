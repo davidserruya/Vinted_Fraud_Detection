{
 "cells": [
  {
   "cell_type": "code",
   "execution_count": 1,
   "metadata": {},
   "outputs": [],
   "source": [
    "import pandas as pd"
   ]
  },
  {
   "cell_type": "code",
   "execution_count": 2,
   "metadata": {},
   "outputs": [],
   "source": [
    "df=pd.read_csv('../csv/dataset_final.csv',index_col=0)"
   ]
  },
  {
   "cell_type": "markdown",
   "metadata": {},
   "source": [
    "### Valeurs manquantes\n",
    "\n",
    "##### Gender"
   ]
  },
  {
   "cell_type": "code",
   "execution_count": 3,
   "metadata": {},
   "outputs": [
    {
     "name": "stdout",
     "output_type": "stream",
     "text": [
      "<class 'pandas.core.series.Series'>\n",
      "Index: 780 entries, 3983113025 to 3981429264\n",
      "Series name: gender\n",
      "Non-Null Count  Dtype \n",
      "--------------  ----- \n",
      "343 non-null    object\n",
      "dtypes: object(1)\n",
      "memory usage: 12.2+ KB\n"
     ]
    }
   ],
   "source": [
    "df['gender'].info()"
   ]
  },
  {
   "cell_type": "code",
   "execution_count": 4,
   "metadata": {},
   "outputs": [],
   "source": [
    "df['gender'].fillna('not_specified', inplace=True)"
   ]
  },
  {
   "cell_type": "code",
   "execution_count": 5,
   "metadata": {},
   "outputs": [
    {
     "data": {
      "text/plain": [
       "gender\n",
       "not_specified    437\n",
       "F                183\n",
       "M                157\n",
       "O                  3\n",
       "Name: count, dtype: int64"
      ]
     },
     "execution_count": 5,
     "metadata": {},
     "output_type": "execute_result"
    }
   ],
   "source": [
    "df['gender'].value_counts()"
   ]
  },
  {
   "cell_type": "markdown",
   "metadata": {},
   "source": [
    "##### City"
   ]
  },
  {
   "cell_type": "code",
   "execution_count": 6,
   "metadata": {},
   "outputs": [
    {
     "name": "stdout",
     "output_type": "stream",
     "text": [
      "<class 'pandas.core.series.Series'>\n",
      "Index: 780 entries, 3983113025 to 3981429264\n",
      "Series name: city\n",
      "Non-Null Count  Dtype \n",
      "--------------  ----- \n",
      "642 non-null    object\n",
      "dtypes: object(1)\n",
      "memory usage: 12.2+ KB\n"
     ]
    }
   ],
   "source": [
    "df['city'].info()"
   ]
  },
  {
   "cell_type": "code",
   "execution_count": 7,
   "metadata": {},
   "outputs": [
    {
     "data": {
      "text/plain": [
       "country_title\n",
       "France        114\n",
       "Francia        14\n",
       "Frankreich      5\n",
       "Italie          2\n",
       "Frankrijk       1\n",
       "Belgique        1\n",
       "Italien         1\n",
       "Name: count, dtype: int64"
      ]
     },
     "execution_count": 7,
     "metadata": {},
     "output_type": "execute_result"
    }
   ],
   "source": [
    "missing_city_rows = df[df['city'].isna()]\n",
    "missing_city_rows['country_title'].value_counts()"
   ]
  },
  {
   "cell_type": "code",
   "execution_count": 8,
   "metadata": {},
   "outputs": [],
   "source": [
    "df.loc[(df['country_title'] == 'France') & (df['city'].isna()), 'city'] = 'French_city'\n",
    "df.loc[(df['country_title'] == 'Francia') & (df['city'].isna()), 'city'] = 'French_city'\n",
    "df.loc[(df['country_title'] == 'Frankreich') & (df['city'].isna()), 'city'] = 'French_city'\n",
    "df.loc[(df['country_title'] == 'Frankrijk') & (df['city'].isna()), 'city'] = 'French_city'\n",
    "df.loc[(df['country_title'] == 'Italie') & (df['city'].isna()), 'city'] = 'Italia_city'\n",
    "df.loc[(df['country_title'] == 'Belgique') & (df['city'].isna()), 'city'] = 'Belgique_city'"
   ]
  },
  {
   "cell_type": "markdown",
   "metadata": {},
   "source": [
    "##### Country"
   ]
  },
  {
   "cell_type": "code",
   "execution_count": 9,
   "metadata": {},
   "outputs": [
    {
     "data": {
      "text/plain": [
       "country_title\n",
       "France        635\n",
       "Francia        57\n",
       "Frankreich     51\n",
       "Frankrijk      15\n",
       "Belgique        8\n",
       "Belgium         2\n",
       "Luxembourg      2\n",
       "Italie          2\n",
       "Pays-Bas        2\n",
       "Spain           1\n",
       "Luxemburg       1\n",
       "België          1\n",
       "França          1\n",
       "España          1\n",
       "Italien         1\n",
       "Name: count, dtype: int64"
      ]
     },
     "execution_count": 9,
     "metadata": {},
     "output_type": "execute_result"
    }
   ],
   "source": [
    "df['country_title'].value_counts()"
   ]
  },
  {
   "cell_type": "code",
   "execution_count": 10,
   "metadata": {},
   "outputs": [],
   "source": [
    "df.loc[(df['country_title'] == 'Belgium'),'country_title'] = 'Belgique'\n",
    "df.loc[(df['country_title'] == 'België'),'country_title'] = 'Belgique'\n",
    "df.loc[(df['country_title'] == 'França'),'country_title'] = 'France'\n",
    "df.loc[(df['country_title'] == 'España'),'country_title'] = 'Spain'\n",
    "df.loc[(df['country_title'] == 'Italien'),'country_title'] = 'Italie'\n",
    "df.loc[(df['country_title'] == 'Luxemburg'),'country_title'] = 'Luxembourg'"
   ]
  },
  {
   "cell_type": "markdown",
   "metadata": {},
   "source": [
    "### Remplacements de valeurs"
   ]
  },
  {
   "cell_type": "code",
   "execution_count": 11,
   "metadata": {},
   "outputs": [],
   "source": [
    "df['promoted'] = df['promoted'].replace({False:0, True: 1})\n",
    "df['verification_facebook'] = df['verification_facebook'].replace({False:0, True: 1})\n",
    "df['verification_google'] = df['verification_google'].replace({False:0, True: 1})\n",
    "df['verification_phone'] = df['verification_phone'].replace({False:0, True: 1})\n",
    "df['is_publish_photos_agreed'] = df['is_publish_photos_agreed'].replace({False:0, True: 1})\n",
    "df['expose_location'] = df['expose_location'].replace({False:0, True: 1})\n",
    "df['photo'] = df['photo'].replace({'No photo':0, 'Photo': 1})\n",
    "df['description_user'] = df['description_user'].replace({'No present':0, 'Present': 1})\n",
    "df['sell_sneaker_account'] = df['sell_sneaker_account'].replace({'Simple Account':0, 'Ressell Account': 1})\n",
    "df['price_decimal'] = df['price_decimal'].replace({'Standard Price':0, 'Decimal Price': 1})\n",
    "df['identic_title_description'] = df['identic_title_description'].replace({'Different':0, 'Identic': 1})\n",
    "df['short_description'] = df['short_description'].replace({'Long':0, 'Short': 1})\n",
    "df['secure_description'] = df['secure_description'].replace({'No Safe':0, 'Safe': 1})\n",
    "df['has_emoji_description'] = df['has_emoji_description'].replace({'No Present':0, 'Present': 1})"
   ]
  },
  {
   "cell_type": "markdown",
   "metadata": {},
   "source": [
    "### Dataset pour le machine learning"
   ]
  },
  {
   "cell_type": "code",
   "execution_count": 12,
   "metadata": {},
   "outputs": [
    {
     "name": "stdout",
     "output_type": "stream",
     "text": [
      "<class 'pandas.core.frame.DataFrame'>\n",
      "Index: 780 entries, 3983113025 to 3981429264\n",
      "Data columns (total 38 columns):\n",
      " #   Column                        Non-Null Count  Dtype  \n",
      "---  ------                        --------------  -----  \n",
      " 0   modele                        780 non-null    object \n",
      " 1   size                          780 non-null    float64\n",
      " 2   brand                         780 non-null    object \n",
      " 3   price                         780 non-null    float64\n",
      " 4   price_decimal                 780 non-null    int64  \n",
      " 5   ressell_price                 780 non-null    int64  \n",
      " 6   promoted                      780 non-null    int64  \n",
      " 7   identic_title_description     780 non-null    int64  \n",
      " 8   short_description             780 non-null    int64  \n",
      " 9   secure_description            780 non-null    int64  \n",
      " 10  has_emoji_description         780 non-null    int64  \n",
      " 11  other_campus_dressing         780 non-null    float64\n",
      " 12  other_campus_dressing_count   780 non-null    int64  \n",
      " 13  hype_products_dressing        780 non-null    float64\n",
      " 14  hype_products_dressing_count  780 non-null    int64  \n",
      " 15  other_campus_sell             780 non-null    float64\n",
      " 16  other_campus_sell_count       780 non-null    int64  \n",
      " 17  hype_products_sell            780 non-null    float64\n",
      " 18  hype_products_sell_count      780 non-null    int64  \n",
      " 19  description_user              780 non-null    int64  \n",
      " 20  sell_sneaker_account          780 non-null    int64  \n",
      " 21  item_count                    780 non-null    int64  \n",
      " 22  total_items_count             780 non-null    int64  \n",
      " 23  given_item_count              780 non-null    int64  \n",
      " 24  taken_item_count              780 non-null    int64  \n",
      " 25  feedback_reputation           780 non-null    float64\n",
      " 26  followers_count               780 non-null    int64  \n",
      " 27  following_count               780 non-null    int64  \n",
      " 28  gender                        780 non-null    object \n",
      " 29  photo                         780 non-null    int64  \n",
      " 30  is_publish_photos_agreed      780 non-null    int64  \n",
      " 31  expose_location               780 non-null    int64  \n",
      " 32  city                          779 non-null    object \n",
      " 33  country_title                 780 non-null    object \n",
      " 34  verification_facebook         780 non-null    int64  \n",
      " 35  verification_google           780 non-null    int64  \n",
      " 36  verification_phone            780 non-null    int64  \n",
      " 37  scam                          780 non-null    int64  \n",
      "dtypes: float64(7), int64(26), object(5)\n",
      "memory usage: 237.7+ KB\n"
     ]
    }
   ],
   "source": [
    "df.info()"
   ]
  },
  {
   "cell_type": "code",
   "execution_count": 13,
   "metadata": {},
   "outputs": [],
   "source": [
    "df.to_csv('../csv/dataset_ml.csv',index=1)"
   ]
  },
  {
   "cell_type": "markdown",
   "metadata": {},
   "source": [
    "Nous ferons l'encodage des variables catégorielles par la suite par soucis de lisibilité."
   ]
  }
 ],
 "metadata": {
  "kernelspec": {
   "display_name": "base",
   "language": "python",
   "name": "python3"
  },
  "language_info": {
   "codemirror_mode": {
    "name": "ipython",
    "version": 3
   },
   "file_extension": ".py",
   "mimetype": "text/x-python",
   "name": "python",
   "nbconvert_exporter": "python",
   "pygments_lexer": "ipython3",
   "version": "3.10.13"
  }
 },
 "nbformat": 4,
 "nbformat_minor": 2
}
