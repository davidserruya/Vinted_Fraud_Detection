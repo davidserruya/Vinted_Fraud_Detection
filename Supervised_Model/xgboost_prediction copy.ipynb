{
 "cells": [
  {
   "cell_type": "code",
   "execution_count": 10,
   "metadata": {},
   "outputs": [],
   "source": [
    "import pandas as pd\n",
    "from sklearn.model_selection import train_test_split\n",
    "from sklearn.preprocessing import StandardScaler, OneHotEncoder\n",
    "from xgboost import XGBClassifier\n",
    "from sklearn.compose import ColumnTransformer\n",
    "from sklearn.pipeline import Pipeline\n",
    "from sklearn.metrics import classification_report, confusion_matrix\n",
    "import seaborn as sns\n",
    "import matplotlib.pyplot as plt"
   ]
  },
  {
   "cell_type": "code",
   "execution_count": 11,
   "metadata": {},
   "outputs": [],
   "source": [
    "df=pd.read_csv('../csv/dataset_ml.csv')"
   ]
  },
  {
   "cell_type": "code",
   "execution_count": 12,
   "metadata": {},
   "outputs": [],
   "source": [
    "df=df.drop(['id_advert','city'],axis=1)"
   ]
  },
  {
   "cell_type": "code",
   "execution_count": 13,
   "metadata": {},
   "outputs": [],
   "source": [
    "# Séparer les variables indépendantes (X) de la variable cible (y)\n",
    "X = df.drop(\"scam\", axis=1)\n",
    "y = df[\"scam\"]"
   ]
  },
  {
   "cell_type": "code",
   "execution_count": 14,
   "metadata": {},
   "outputs": [],
   "source": [
    "# Diviser les données en ensembles d'entraînement et de test\n",
    "X_train, X_test, y_train, y_test = train_test_split(X, y, test_size=0.2)"
   ]
  },
  {
   "cell_type": "code",
   "execution_count": 15,
   "metadata": {},
   "outputs": [],
   "source": [
    "# Définir les colonnes nécessitant une normalisation\n",
    "numerical_cols = ['size','other_campus_dressing','other_campus_sell','hype_products_dressing',\n",
    "                 'hype_products_sell','item_count','total_items_count','given_item_count','taken_item_count',\n",
    "                 'feedback_reputation','followers_count','following_count']\n",
    "binary_categorical_cols = ['price_decimal','ressell_price','promoted','identic_title_description','short_description',\n",
    "                      'secure_description','has_emoji_description','description_user','sell_sneaker_account','photo',\n",
    "                      'is_publish_photos_agreed','expose_location','verification_facebook','verification_google','verification_phone'] \n",
    "other_categorical_cols = ['gender','brand','country_title','modele']"
   ]
  },
  {
   "cell_type": "code",
   "execution_count": 16,
   "metadata": {},
   "outputs": [],
   "source": [
    "# Définir les transformations pour les colonnes\n",
    "preprocessor = ColumnTransformer(\n",
    "    transformers=[\n",
    "        ('num', StandardScaler(), numerical_cols),  # Normaliser les variables numériques\n",
    "        ('bin_cat', 'passthrough', binary_categorical_cols),  # Ne rien faire pour les colonnes binaires\n",
    "        ('other_cat', OneHotEncoder(handle_unknown='ignore'), other_categorical_cols)  # Appliquer OneHotEncoder aux autres colonnes catégorielles\n",
    "    ])"
   ]
  },
  {
   "cell_type": "code",
   "execution_count": 17,
   "metadata": {},
   "outputs": [],
   "source": [
    "# Créer le pipeline avec le préprocesseur et le modèle RandomForest\n",
    "pipeline_xgb = Pipeline([\n",
    "    ('preprocessor', preprocessor),\n",
    "    ('classifier', XGBClassifier())\n",
    "])"
   ]
  },
  {
   "cell_type": "code",
   "execution_count": 18,
   "metadata": {},
   "outputs": [
    {
     "data": {
      "text/html": [
       "<style>#sk-container-id-1 {color: black;}#sk-container-id-1 pre{padding: 0;}#sk-container-id-1 div.sk-toggleable {background-color: white;}#sk-container-id-1 label.sk-toggleable__label {cursor: pointer;display: block;width: 100%;margin-bottom: 0;padding: 0.3em;box-sizing: border-box;text-align: center;}#sk-container-id-1 label.sk-toggleable__label-arrow:before {content: \"▸\";float: left;margin-right: 0.25em;color: #696969;}#sk-container-id-1 label.sk-toggleable__label-arrow:hover:before {color: black;}#sk-container-id-1 div.sk-estimator:hover label.sk-toggleable__label-arrow:before {color: black;}#sk-container-id-1 div.sk-toggleable__content {max-height: 0;max-width: 0;overflow: hidden;text-align: left;background-color: #f0f8ff;}#sk-container-id-1 div.sk-toggleable__content pre {margin: 0.2em;color: black;border-radius: 0.25em;background-color: #f0f8ff;}#sk-container-id-1 input.sk-toggleable__control:checked~div.sk-toggleable__content {max-height: 200px;max-width: 100%;overflow: auto;}#sk-container-id-1 input.sk-toggleable__control:checked~label.sk-toggleable__label-arrow:before {content: \"▾\";}#sk-container-id-1 div.sk-estimator input.sk-toggleable__control:checked~label.sk-toggleable__label {background-color: #d4ebff;}#sk-container-id-1 div.sk-label input.sk-toggleable__control:checked~label.sk-toggleable__label {background-color: #d4ebff;}#sk-container-id-1 input.sk-hidden--visually {border: 0;clip: rect(1px 1px 1px 1px);clip: rect(1px, 1px, 1px, 1px);height: 1px;margin: -1px;overflow: hidden;padding: 0;position: absolute;width: 1px;}#sk-container-id-1 div.sk-estimator {font-family: monospace;background-color: #f0f8ff;border: 1px dotted black;border-radius: 0.25em;box-sizing: border-box;margin-bottom: 0.5em;}#sk-container-id-1 div.sk-estimator:hover {background-color: #d4ebff;}#sk-container-id-1 div.sk-parallel-item::after {content: \"\";width: 100%;border-bottom: 1px solid gray;flex-grow: 1;}#sk-container-id-1 div.sk-label:hover label.sk-toggleable__label {background-color: #d4ebff;}#sk-container-id-1 div.sk-serial::before {content: \"\";position: absolute;border-left: 1px solid gray;box-sizing: border-box;top: 0;bottom: 0;left: 50%;z-index: 0;}#sk-container-id-1 div.sk-serial {display: flex;flex-direction: column;align-items: center;background-color: white;padding-right: 0.2em;padding-left: 0.2em;position: relative;}#sk-container-id-1 div.sk-item {position: relative;z-index: 1;}#sk-container-id-1 div.sk-parallel {display: flex;align-items: stretch;justify-content: center;background-color: white;position: relative;}#sk-container-id-1 div.sk-item::before, #sk-container-id-1 div.sk-parallel-item::before {content: \"\";position: absolute;border-left: 1px solid gray;box-sizing: border-box;top: 0;bottom: 0;left: 50%;z-index: -1;}#sk-container-id-1 div.sk-parallel-item {display: flex;flex-direction: column;z-index: 1;position: relative;background-color: white;}#sk-container-id-1 div.sk-parallel-item:first-child::after {align-self: flex-end;width: 50%;}#sk-container-id-1 div.sk-parallel-item:last-child::after {align-self: flex-start;width: 50%;}#sk-container-id-1 div.sk-parallel-item:only-child::after {width: 0;}#sk-container-id-1 div.sk-dashed-wrapped {border: 1px dashed gray;margin: 0 0.4em 0.5em 0.4em;box-sizing: border-box;padding-bottom: 0.4em;background-color: white;}#sk-container-id-1 div.sk-label label {font-family: monospace;font-weight: bold;display: inline-block;line-height: 1.2em;}#sk-container-id-1 div.sk-label-container {text-align: center;}#sk-container-id-1 div.sk-container {/* jupyter's `normalize.less` sets `[hidden] { display: none; }` but bootstrap.min.css set `[hidden] { display: none !important; }` so we also need the `!important` here to be able to override the default hidden behavior on the sphinx rendered scikit-learn.org. See: https://github.com/scikit-learn/scikit-learn/issues/21755 */display: inline-block !important;position: relative;}#sk-container-id-1 div.sk-text-repr-fallback {display: none;}</style><div id=\"sk-container-id-1\" class=\"sk-top-container\"><div class=\"sk-text-repr-fallback\"><pre>Pipeline(steps=[(&#x27;preprocessor&#x27;,\n",
       "                 ColumnTransformer(transformers=[(&#x27;num&#x27;, StandardScaler(),\n",
       "                                                  [&#x27;size&#x27;,\n",
       "                                                   &#x27;other_campus_dressing&#x27;,\n",
       "                                                   &#x27;other_campus_sell&#x27;,\n",
       "                                                   &#x27;hype_products_dressing&#x27;,\n",
       "                                                   &#x27;hype_products_sell&#x27;,\n",
       "                                                   &#x27;item_count&#x27;,\n",
       "                                                   &#x27;total_items_count&#x27;,\n",
       "                                                   &#x27;given_item_count&#x27;,\n",
       "                                                   &#x27;taken_item_count&#x27;,\n",
       "                                                   &#x27;feedback_reputation&#x27;,\n",
       "                                                   &#x27;followers_count&#x27;,\n",
       "                                                   &#x27;following_count&#x27;]),\n",
       "                                                 (&#x27;bin_cat&#x27;, &#x27;passthrough&#x27;,\n",
       "                                                  [&#x27;price_...\n",
       "                               feature_types=None, gamma=None, grow_policy=None,\n",
       "                               importance_type=None,\n",
       "                               interaction_constraints=None, learning_rate=None,\n",
       "                               max_bin=None, max_cat_threshold=None,\n",
       "                               max_cat_to_onehot=None, max_delta_step=None,\n",
       "                               max_depth=None, max_leaves=None,\n",
       "                               min_child_weight=None, missing=nan,\n",
       "                               monotone_constraints=None, multi_strategy=None,\n",
       "                               n_estimators=None, n_jobs=None,\n",
       "                               num_parallel_tree=None, random_state=None, ...))])</pre><b>In a Jupyter environment, please rerun this cell to show the HTML representation or trust the notebook. <br />On GitHub, the HTML representation is unable to render, please try loading this page with nbviewer.org.</b></div><div class=\"sk-container\" hidden><div class=\"sk-item sk-dashed-wrapped\"><div class=\"sk-label-container\"><div class=\"sk-label sk-toggleable\"><input class=\"sk-toggleable__control sk-hidden--visually\" id=\"sk-estimator-id-1\" type=\"checkbox\" ><label for=\"sk-estimator-id-1\" class=\"sk-toggleable__label sk-toggleable__label-arrow\">Pipeline</label><div class=\"sk-toggleable__content\"><pre>Pipeline(steps=[(&#x27;preprocessor&#x27;,\n",
       "                 ColumnTransformer(transformers=[(&#x27;num&#x27;, StandardScaler(),\n",
       "                                                  [&#x27;size&#x27;,\n",
       "                                                   &#x27;other_campus_dressing&#x27;,\n",
       "                                                   &#x27;other_campus_sell&#x27;,\n",
       "                                                   &#x27;hype_products_dressing&#x27;,\n",
       "                                                   &#x27;hype_products_sell&#x27;,\n",
       "                                                   &#x27;item_count&#x27;,\n",
       "                                                   &#x27;total_items_count&#x27;,\n",
       "                                                   &#x27;given_item_count&#x27;,\n",
       "                                                   &#x27;taken_item_count&#x27;,\n",
       "                                                   &#x27;feedback_reputation&#x27;,\n",
       "                                                   &#x27;followers_count&#x27;,\n",
       "                                                   &#x27;following_count&#x27;]),\n",
       "                                                 (&#x27;bin_cat&#x27;, &#x27;passthrough&#x27;,\n",
       "                                                  [&#x27;price_...\n",
       "                               feature_types=None, gamma=None, grow_policy=None,\n",
       "                               importance_type=None,\n",
       "                               interaction_constraints=None, learning_rate=None,\n",
       "                               max_bin=None, max_cat_threshold=None,\n",
       "                               max_cat_to_onehot=None, max_delta_step=None,\n",
       "                               max_depth=None, max_leaves=None,\n",
       "                               min_child_weight=None, missing=nan,\n",
       "                               monotone_constraints=None, multi_strategy=None,\n",
       "                               n_estimators=None, n_jobs=None,\n",
       "                               num_parallel_tree=None, random_state=None, ...))])</pre></div></div></div><div class=\"sk-serial\"><div class=\"sk-item sk-dashed-wrapped\"><div class=\"sk-label-container\"><div class=\"sk-label sk-toggleable\"><input class=\"sk-toggleable__control sk-hidden--visually\" id=\"sk-estimator-id-2\" type=\"checkbox\" ><label for=\"sk-estimator-id-2\" class=\"sk-toggleable__label sk-toggleable__label-arrow\">preprocessor: ColumnTransformer</label><div class=\"sk-toggleable__content\"><pre>ColumnTransformer(transformers=[(&#x27;num&#x27;, StandardScaler(),\n",
       "                                 [&#x27;size&#x27;, &#x27;other_campus_dressing&#x27;,\n",
       "                                  &#x27;other_campus_sell&#x27;, &#x27;hype_products_dressing&#x27;,\n",
       "                                  &#x27;hype_products_sell&#x27;, &#x27;item_count&#x27;,\n",
       "                                  &#x27;total_items_count&#x27;, &#x27;given_item_count&#x27;,\n",
       "                                  &#x27;taken_item_count&#x27;, &#x27;feedback_reputation&#x27;,\n",
       "                                  &#x27;followers_count&#x27;, &#x27;following_count&#x27;]),\n",
       "                                (&#x27;bin_cat&#x27;, &#x27;passthrough&#x27;,\n",
       "                                 [&#x27;price_decimal&#x27;, &#x27;ressell_price&#x27;, &#x27;promot...\n",
       "                                  &#x27;identic_title_description&#x27;,\n",
       "                                  &#x27;short_description&#x27;, &#x27;secure_description&#x27;,\n",
       "                                  &#x27;has_emoji_description&#x27;, &#x27;description_user&#x27;,\n",
       "                                  &#x27;sell_sneaker_account&#x27;, &#x27;photo&#x27;,\n",
       "                                  &#x27;is_publish_photos_agreed&#x27;, &#x27;expose_location&#x27;,\n",
       "                                  &#x27;verification_facebook&#x27;,\n",
       "                                  &#x27;verification_google&#x27;,\n",
       "                                  &#x27;verification_phone&#x27;]),\n",
       "                                (&#x27;other_cat&#x27;,\n",
       "                                 OneHotEncoder(handle_unknown=&#x27;ignore&#x27;),\n",
       "                                 [&#x27;gender&#x27;, &#x27;brand&#x27;, &#x27;country_title&#x27;,\n",
       "                                  &#x27;modele&#x27;])])</pre></div></div></div><div class=\"sk-parallel\"><div class=\"sk-parallel-item\"><div class=\"sk-item\"><div class=\"sk-label-container\"><div class=\"sk-label sk-toggleable\"><input class=\"sk-toggleable__control sk-hidden--visually\" id=\"sk-estimator-id-3\" type=\"checkbox\" ><label for=\"sk-estimator-id-3\" class=\"sk-toggleable__label sk-toggleable__label-arrow\">num</label><div class=\"sk-toggleable__content\"><pre>[&#x27;size&#x27;, &#x27;other_campus_dressing&#x27;, &#x27;other_campus_sell&#x27;, &#x27;hype_products_dressing&#x27;, &#x27;hype_products_sell&#x27;, &#x27;item_count&#x27;, &#x27;total_items_count&#x27;, &#x27;given_item_count&#x27;, &#x27;taken_item_count&#x27;, &#x27;feedback_reputation&#x27;, &#x27;followers_count&#x27;, &#x27;following_count&#x27;]</pre></div></div></div><div class=\"sk-serial\"><div class=\"sk-item\"><div class=\"sk-estimator sk-toggleable\"><input class=\"sk-toggleable__control sk-hidden--visually\" id=\"sk-estimator-id-4\" type=\"checkbox\" ><label for=\"sk-estimator-id-4\" class=\"sk-toggleable__label sk-toggleable__label-arrow\">StandardScaler</label><div class=\"sk-toggleable__content\"><pre>StandardScaler()</pre></div></div></div></div></div></div><div class=\"sk-parallel-item\"><div class=\"sk-item\"><div class=\"sk-label-container\"><div class=\"sk-label sk-toggleable\"><input class=\"sk-toggleable__control sk-hidden--visually\" id=\"sk-estimator-id-5\" type=\"checkbox\" ><label for=\"sk-estimator-id-5\" class=\"sk-toggleable__label sk-toggleable__label-arrow\">bin_cat</label><div class=\"sk-toggleable__content\"><pre>[&#x27;price_decimal&#x27;, &#x27;ressell_price&#x27;, &#x27;promoted&#x27;, &#x27;identic_title_description&#x27;, &#x27;short_description&#x27;, &#x27;secure_description&#x27;, &#x27;has_emoji_description&#x27;, &#x27;description_user&#x27;, &#x27;sell_sneaker_account&#x27;, &#x27;photo&#x27;, &#x27;is_publish_photos_agreed&#x27;, &#x27;expose_location&#x27;, &#x27;verification_facebook&#x27;, &#x27;verification_google&#x27;, &#x27;verification_phone&#x27;]</pre></div></div></div><div class=\"sk-serial\"><div class=\"sk-item\"><div class=\"sk-estimator sk-toggleable\"><input class=\"sk-toggleable__control sk-hidden--visually\" id=\"sk-estimator-id-6\" type=\"checkbox\" ><label for=\"sk-estimator-id-6\" class=\"sk-toggleable__label sk-toggleable__label-arrow\">passthrough</label><div class=\"sk-toggleable__content\"><pre>passthrough</pre></div></div></div></div></div></div><div class=\"sk-parallel-item\"><div class=\"sk-item\"><div class=\"sk-label-container\"><div class=\"sk-label sk-toggleable\"><input class=\"sk-toggleable__control sk-hidden--visually\" id=\"sk-estimator-id-7\" type=\"checkbox\" ><label for=\"sk-estimator-id-7\" class=\"sk-toggleable__label sk-toggleable__label-arrow\">other_cat</label><div class=\"sk-toggleable__content\"><pre>[&#x27;gender&#x27;, &#x27;brand&#x27;, &#x27;country_title&#x27;, &#x27;modele&#x27;]</pre></div></div></div><div class=\"sk-serial\"><div class=\"sk-item\"><div class=\"sk-estimator sk-toggleable\"><input class=\"sk-toggleable__control sk-hidden--visually\" id=\"sk-estimator-id-8\" type=\"checkbox\" ><label for=\"sk-estimator-id-8\" class=\"sk-toggleable__label sk-toggleable__label-arrow\">OneHotEncoder</label><div class=\"sk-toggleable__content\"><pre>OneHotEncoder(handle_unknown=&#x27;ignore&#x27;)</pre></div></div></div></div></div></div></div></div><div class=\"sk-item\"><div class=\"sk-estimator sk-toggleable\"><input class=\"sk-toggleable__control sk-hidden--visually\" id=\"sk-estimator-id-9\" type=\"checkbox\" ><label for=\"sk-estimator-id-9\" class=\"sk-toggleable__label sk-toggleable__label-arrow\">XGBClassifier</label><div class=\"sk-toggleable__content\"><pre>XGBClassifier(base_score=None, booster=None, callbacks=None,\n",
       "              colsample_bylevel=None, colsample_bynode=None,\n",
       "              colsample_bytree=None, device=None, early_stopping_rounds=None,\n",
       "              enable_categorical=False, eval_metric=None, feature_types=None,\n",
       "              gamma=None, grow_policy=None, importance_type=None,\n",
       "              interaction_constraints=None, learning_rate=None, max_bin=None,\n",
       "              max_cat_threshold=None, max_cat_to_onehot=None,\n",
       "              max_delta_step=None, max_depth=None, max_leaves=None,\n",
       "              min_child_weight=None, missing=nan, monotone_constraints=None,\n",
       "              multi_strategy=None, n_estimators=None, n_jobs=None,\n",
       "              num_parallel_tree=None, random_state=None, ...)</pre></div></div></div></div></div></div></div>"
      ],
      "text/plain": [
       "Pipeline(steps=[('preprocessor',\n",
       "                 ColumnTransformer(transformers=[('num', StandardScaler(),\n",
       "                                                  ['size',\n",
       "                                                   'other_campus_dressing',\n",
       "                                                   'other_campus_sell',\n",
       "                                                   'hype_products_dressing',\n",
       "                                                   'hype_products_sell',\n",
       "                                                   'item_count',\n",
       "                                                   'total_items_count',\n",
       "                                                   'given_item_count',\n",
       "                                                   'taken_item_count',\n",
       "                                                   'feedback_reputation',\n",
       "                                                   'followers_count',\n",
       "                                                   'following_count']),\n",
       "                                                 ('bin_cat', 'passthrough',\n",
       "                                                  ['price_...\n",
       "                               feature_types=None, gamma=None, grow_policy=None,\n",
       "                               importance_type=None,\n",
       "                               interaction_constraints=None, learning_rate=None,\n",
       "                               max_bin=None, max_cat_threshold=None,\n",
       "                               max_cat_to_onehot=None, max_delta_step=None,\n",
       "                               max_depth=None, max_leaves=None,\n",
       "                               min_child_weight=None, missing=nan,\n",
       "                               monotone_constraints=None, multi_strategy=None,\n",
       "                               n_estimators=None, n_jobs=None,\n",
       "                               num_parallel_tree=None, random_state=None, ...))])"
      ]
     },
     "execution_count": 18,
     "metadata": {},
     "output_type": "execute_result"
    }
   ],
   "source": [
    "# Entraîner le modèle\n",
    "pipeline_xgb.fit(X_train, y_train)"
   ]
  },
  {
   "cell_type": "code",
   "execution_count": 19,
   "metadata": {},
   "outputs": [],
   "source": [
    "# Prédire sur l'ensemble d'entraînement\n",
    "y_train_pred = pipeline_xgb.predict(X_train)\n",
    "\n",
    "# Prédire sur l'ensemble de test\n",
    "y_test_pred = pipeline_xgb.predict(X_test)"
   ]
  },
  {
   "cell_type": "code",
   "execution_count": 20,
   "metadata": {},
   "outputs": [
    {
     "data": {
      "image/png": "[encoded data removed]",
      "text/plain": [
       "<Figure size 300x300 with 1 Axes>"
      ]
     },
     "metadata": {},
     "output_type": "display_data"
    }
   ],
   "source": [
    "# Calculer la matrice de confusion\n",
    "cm = confusion_matrix(y_train, y_train_pred)\n",
    "\n",
    "# Utiliser Seaborn pour l'affichage\n",
    "plt.figure(figsize=(3, 3))\n",
    "sns.heatmap(cm, annot=True, fmt=\"d\", cmap=\"Blues\", linewidths=.5, cbar=False)\n",
    "plt.title('Matrice de Confusion pour l\\'ensemble d\\'entraînement')\n",
    "plt.xlabel('Prédictions')\n",
    "plt.ylabel('Vraies étiquettes')\n",
    "plt.show()"
   ]
  },
  {
   "cell_type": "code",
   "execution_count": 21,
   "metadata": {},
   "outputs": [
    {
     "name": "stdout",
     "output_type": "stream",
     "text": [
      "Métriques pour l'ensemble d'entraînement:\n",
      "              precision    recall  f1-score   support\n",
      "\n",
      "           0       1.00      1.00      1.00       275\n",
      "           1       1.00      1.00      1.00       349\n",
      "\n",
      "    accuracy                           1.00       624\n",
      "   macro avg       1.00      1.00      1.00       624\n",
      "weighted avg       1.00      1.00      1.00       624\n",
      "\n"
     ]
    }
   ],
   "source": [
    "# Afficher les métriques de classification pour l'ensemble d'entraînement\n",
    "print(\"Métriques pour l'ensemble d'entraînement:\")\n",
    "print(classification_report(y_train, y_train_pred))"
   ]
  },
  {
   "cell_type": "code",
   "execution_count": 22,
   "metadata": {},
   "outputs": [
    {
     "data": {
      "image/png": "[encoded data removed]",
      "text/plain": [
       "<Figure size 300x300 with 1 Axes>"
      ]
     },
     "metadata": {},
     "output_type": "display_data"
    }
   ],
   "source": [
    "# Calculer la matrice de confusion\n",
    "cm = confusion_matrix(y_test, y_test_pred)\n",
    "\n",
    "# Utiliser Seaborn pour l'affichage\n",
    "plt.figure(figsize=(3, 3))\n",
    "sns.heatmap(cm, annot=True, fmt=\"d\", cmap=\"Blues\", linewidths=.5, cbar=False)\n",
    "plt.title('Matrice de Confusion pour l\\'ensemble de test')\n",
    "plt.xlabel('Prédictions')\n",
    "plt.ylabel('Vraies étiquettes')\n",
    "plt.show()"
   ]
  },
  {
   "cell_type": "code",
   "execution_count": 23,
   "metadata": {},
   "outputs": [
    {
     "name": "stdout",
     "output_type": "stream",
     "text": [
      "Métriques pour l'ensemble de test:\n",
      "              precision    recall  f1-score   support\n",
      "\n",
      "           0       0.97      0.97      0.97        66\n",
      "           1       0.98      0.98      0.98        90\n",
      "\n",
      "    accuracy                           0.97       156\n",
      "   macro avg       0.97      0.97      0.97       156\n",
      "weighted avg       0.97      0.97      0.97       156\n",
      "\n"
     ]
    }
   ],
   "source": [
    "# Afficher les métriques de classification pour l'ensemble de test\n",
    "print(\"Métriques pour l'ensemble de test:\")\n",
    "print(classification_report(y_test, y_test_pred))"
   ]
  },
  {
   "cell_type": "code",
   "execution_count": 24,
   "metadata": {},
   "outputs": [
    {
     "data": {
      "text/html": [
       "<div>\n",
       "<style scoped>\n",
       "    .dataframe tbody tr th:only-of-type {\n",
       "        vertical-align: middle;\n",
       "    }\n",
       "\n",
       "    .dataframe tbody tr th {\n",
       "        vertical-align: top;\n",
       "    }\n",
       "\n",
       "    .dataframe thead th {\n",
       "        text-align: right;\n",
       "    }\n",
       "</style>\n",
       "<table border=\"1\" class=\"dataframe\">\n",
       "  <thead>\n",
       "    <tr style=\"text-align: right;\">\n",
       "      <th></th>\n",
       "      <th>modele</th>\n",
       "      <th>size</th>\n",
       "      <th>brand</th>\n",
       "      <th>price</th>\n",
       "      <th>price_decimal</th>\n",
       "      <th>ressell_price</th>\n",
       "      <th>promoted</th>\n",
       "      <th>identic_title_description</th>\n",
       "      <th>short_description</th>\n",
       "      <th>secure_description</th>\n",
       "      <th>...</th>\n",
       "      <th>followers_count</th>\n",
       "      <th>following_count</th>\n",
       "      <th>gender</th>\n",
       "      <th>photo</th>\n",
       "      <th>is_publish_photos_agreed</th>\n",
       "      <th>expose_location</th>\n",
       "      <th>country_title</th>\n",
       "      <th>verification_facebook</th>\n",
       "      <th>verification_google</th>\n",
       "      <th>verification_phone</th>\n",
       "    </tr>\n",
       "  </thead>\n",
       "  <tbody>\n",
       "    <tr>\n",
       "      <th>124</th>\n",
       "      <td>black</td>\n",
       "      <td>38.0</td>\n",
       "      <td>adidas Originals</td>\n",
       "      <td>100.0</td>\n",
       "      <td>0</td>\n",
       "      <td>118</td>\n",
       "      <td>0</td>\n",
       "      <td>0</td>\n",
       "      <td>0</td>\n",
       "      <td>0</td>\n",
       "      <td>...</td>\n",
       "      <td>3</td>\n",
       "      <td>0</td>\n",
       "      <td>not_specified</td>\n",
       "      <td>1</td>\n",
       "      <td>0</td>\n",
       "      <td>1</td>\n",
       "      <td>France</td>\n",
       "      <td>0</td>\n",
       "      <td>0</td>\n",
       "      <td>1</td>\n",
       "    </tr>\n",
       "    <tr>\n",
       "      <th>774</th>\n",
       "      <td>purple</td>\n",
       "      <td>37.0</td>\n",
       "      <td>adidas</td>\n",
       "      <td>170.0</td>\n",
       "      <td>0</td>\n",
       "      <td>115</td>\n",
       "      <td>0</td>\n",
       "      <td>0</td>\n",
       "      <td>0</td>\n",
       "      <td>0</td>\n",
       "      <td>...</td>\n",
       "      <td>0</td>\n",
       "      <td>0</td>\n",
       "      <td>not_specified</td>\n",
       "      <td>0</td>\n",
       "      <td>0</td>\n",
       "      <td>0</td>\n",
       "      <td>France</td>\n",
       "      <td>0</td>\n",
       "      <td>0</td>\n",
       "      <td>0</td>\n",
       "    </tr>\n",
       "    <tr>\n",
       "      <th>49</th>\n",
       "      <td>black</td>\n",
       "      <td>37.0</td>\n",
       "      <td>Dynam</td>\n",
       "      <td>75.0</td>\n",
       "      <td>0</td>\n",
       "      <td>111</td>\n",
       "      <td>0</td>\n",
       "      <td>1</td>\n",
       "      <td>1</td>\n",
       "      <td>0</td>\n",
       "      <td>...</td>\n",
       "      <td>0</td>\n",
       "      <td>0</td>\n",
       "      <td>not_specified</td>\n",
       "      <td>0</td>\n",
       "      <td>0</td>\n",
       "      <td>1</td>\n",
       "      <td>France</td>\n",
       "      <td>0</td>\n",
       "      <td>0</td>\n",
       "      <td>1</td>\n",
       "    </tr>\n",
       "    <tr>\n",
       "      <th>174</th>\n",
       "      <td>grey</td>\n",
       "      <td>45.0</td>\n",
       "      <td>adidas</td>\n",
       "      <td>115.0</td>\n",
       "      <td>0</td>\n",
       "      <td>165</td>\n",
       "      <td>0</td>\n",
       "      <td>0</td>\n",
       "      <td>0</td>\n",
       "      <td>0</td>\n",
       "      <td>...</td>\n",
       "      <td>1</td>\n",
       "      <td>0</td>\n",
       "      <td>M</td>\n",
       "      <td>1</td>\n",
       "      <td>0</td>\n",
       "      <td>1</td>\n",
       "      <td>France</td>\n",
       "      <td>0</td>\n",
       "      <td>0</td>\n",
       "      <td>0</td>\n",
       "    </tr>\n",
       "  </tbody>\n",
       "</table>\n",
       "<p>4 rows × 36 columns</p>\n",
       "</div>"
      ],
      "text/plain": [
       "     modele  size             brand  price  price_decimal  ressell_price  \\\n",
       "124   black  38.0  adidas Originals  100.0              0            118   \n",
       "774  purple  37.0            adidas  170.0              0            115   \n",
       "49    black  37.0             Dynam   75.0              0            111   \n",
       "174    grey  45.0            adidas  115.0              0            165   \n",
       "\n",
       "     promoted  identic_title_description  short_description  \\\n",
       "124         0                          0                  0   \n",
       "774         0                          0                  0   \n",
       "49          0                          1                  1   \n",
       "174         0                          0                  0   \n",
       "\n",
       "     secure_description  ...  followers_count  following_count         gender  \\\n",
       "124                   0  ...                3                0  not_specified   \n",
       "774                   0  ...                0                0  not_specified   \n",
       "49                    0  ...                0                0  not_specified   \n",
       "174                   0  ...                1                0              M   \n",
       "\n",
       "     photo  is_publish_photos_agreed  expose_location  country_title  \\\n",
       "124      1                         0                1         France   \n",
       "774      0                         0                0         France   \n",
       "49       0                         0                1         France   \n",
       "174      1                         0                1         France   \n",
       "\n",
       "     verification_facebook  verification_google  verification_phone  \n",
       "124                      0                    0                   1  \n",
       "774                      0                    0                   0  \n",
       "49                       0                    0                   1  \n",
       "174                      0                    0                   0  \n",
       "\n",
       "[4 rows x 36 columns]"
      ]
     },
     "execution_count": 24,
     "metadata": {},
     "output_type": "execute_result"
    }
   ],
   "source": [
    "incorrect_predictions = X_test[y_test != y_test_pred]\n",
    "incorrect_predictions"
   ]
  },
  {
   "cell_type": "code",
   "execution_count": 25,
   "metadata": {},
   "outputs": [
    {
     "ename": "NameError",
     "evalue": "name 'plot_importance' is not defined",
     "output_type": "error",
     "traceback": [
      "\u001b[0;31m---------------------------------------------------------------------------\u001b[0m",
      "\u001b[0;31mNameError\u001b[0m                                 Traceback (most recent call last)",
      "\u001b[1;32m/home/onyxia/work/Vinted_ML/Supervised_Model/xgboost_prediction copy.ipynb Cell 16\u001b[0m line \u001b[0;36m1\n\u001b[0;32m----> <a href='vscode-notebook-cell://user-davidserruya-871915-0.user.lab.sspcloud.fr/home/onyxia/work/Vinted_ML/Supervised_Model/xgboost_prediction%20copy.ipynb#X21sdnNjb2RlLXJlbW90ZQ%3D%3D?line=0'>1</a>\u001b[0m plot_importance(pipeline_xgb\u001b[39m.\u001b[39mnamed_steps[\u001b[39m'\u001b[39m\u001b[39mclassifier\u001b[39m\u001b[39m'\u001b[39m], importance_type\u001b[39m=\u001b[39m\u001b[39m'\u001b[39m\u001b[39mweight\u001b[39m\u001b[39m'\u001b[39m, show_values\u001b[39m=\u001b[39m\u001b[39mTrue\u001b[39;00m,max_num_features\u001b[39m=\u001b[39m\u001b[39m15\u001b[39m)\n\u001b[1;32m      <a href='vscode-notebook-cell://user-davidserruya-871915-0.user.lab.sspcloud.fr/home/onyxia/work/Vinted_ML/Supervised_Model/xgboost_prediction%20copy.ipynb#X21sdnNjb2RlLXJlbW90ZQ%3D%3D?line=1'>2</a>\u001b[0m plt\u001b[39m.\u001b[39mshow()\n",
      "\u001b[0;31mNameError\u001b[0m: name 'plot_importance' is not defined"
     ]
    }
   ],
   "source": [
    "plot_importance(pipeline_xgb.named_steps['classifier'], importance_type='weight', show_values=True,max_num_features=15)\n",
    "plt.show()"
   ]
  },
  {
   "cell_type": "code",
   "execution_count": null,
   "metadata": {},
   "outputs": [],
   "source": [
    "# Récupérer les noms de colonnes après la transformation OneHotEncoder\n",
    "ohe_feature_names = list(pipeline_xgb.named_steps['preprocessor'].named_transformers_['other_cat'].get_feature_names_out(input_features=other_categorical_cols))\n",
    "# Concaténer les noms de colonnes (après OneHotEncoder) avec les colonnes binaires et numériques\n",
    "all_feature_names = numerical_cols+ binary_categorical_cols + ohe_feature_names"
   ]
  }
 ],
 "metadata": {
  "kernelspec": {
   "display_name": "base",
   "language": "python",
   "name": "python3"
  },
  "language_info": {
   "codemirror_mode": {
    "name": "ipython",
    "version": 3
   },
   "file_extension": ".py",
   "mimetype": "text/x-python",
   "name": "python",
   "nbconvert_exporter": "python",
   "pygments_lexer": "ipython3",
   "version": "3.10.13"
  }
 },
 "nbformat": 4,
 "nbformat_minor": 2
}
